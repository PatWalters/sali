{
 "cells": [
  {
   "cell_type": "code",
   "execution_count": 1,
   "metadata": {},
   "outputs": [
    {
     "name": "stderr",
     "output_type": "stream",
     "text": [
      "RDKit WARNING: [16:44:22] Enabling RDKit 2019.09.3 jupyter extensions\n"
     ]
    }
   ],
   "source": [
    "import pandas as pd\n",
    "import seaborn as sns\n",
    "from rdkit import Chem, DataStructs\n",
    "from rdkit.Chem.Draw import MolsToGridImage\n",
    "from rdkit.Chem import PandasTools\n",
    "import numpy as np\n",
    "import pandas as pd\n",
    "from rdkit.Chem import rdFMCS\n",
    "from rdkit.Chem import AllChem\n",
    "from ipywidgets import interact\n",
    "from tqdm.notebook import tqdm"
   ]
  },
  {
   "cell_type": "markdown",
   "metadata": {},
   "source": [
    "Read the activity data from the CSV file"
   ]
  },
  {
   "cell_type": "code",
   "execution_count": 2,
   "metadata": {},
   "outputs": [],
   "source": [
    "data_df = pd.read_csv(\"activity_data.csv\")"
   ]
  },
  {
   "cell_type": "markdown",
   "metadata": {},
   "source": [
    "Look for the duplicated records in the dataframe"
   ]
  },
  {
   "cell_type": "code",
   "execution_count": 3,
   "metadata": {},
   "outputs": [
    {
     "name": "stdout",
     "output_type": "stream",
     "text": [
      "CC(=O)N1CCN(CC(=O)Nc2cccc(S(N)(=O)=O)c2)CC1 [nan nan]\n",
      "CC(C(=O)O)c1ccc2c(c1)[nH]c1ccc(Cl)cc12 [nan nan nan nan]\n",
      "CC(C)N(C)C(=O)C1CCN(C(=O)CCl)CC1 [nan nan]\n",
      "CNS(=O)(=O)Cc1ccc2[nH]cc(CCN(C)C)c2c1 [nan nan nan]\n",
      "COc1ccc2[nH]cc(CCNC(C)=O)c2c1 [nan nan]\n",
      "CS(=O)(=O)Nc1cccc(C(=O)Nc2cccc(N3CCCC3=O)c2)c1 [nan nan]\n",
      "Cc1ccc(C)c(S(=O)(=O)N2CCN(C(=O)CCl)CC2)c1 [nan nan]\n",
      "Cc1ccncc1NC(=O)Nc1cccc(Cl)c1 [68. 68.]\n",
      "Cc1ccncc1NC(=O)Nc1ccccc1 [nan nan]\n",
      "Cc1ccncc1NC(=O)c1cccc(NC(=O)Nc2cccnc2)c1 [nan nan]\n",
      "N#Cc1ccc(NC(=O)Nc2cccnc2)cc1 [nan nan]\n",
      "N#Cc1cccc(NC(=O)Nc2cccnc2)c1 [nan nan nan nan]\n",
      "O=C(CCl)N1CCC(C(=O)N2CCCCC2)CC1 [nan nan]\n",
      "O=C(CCl)N1CCN(Cc2cccc(Cl)c2)CC1 [nan nan nan]\n",
      "O=C(CCl)N1CCN(Cc2cccc3ccccc23)CC1 [nan nan]\n",
      "O=C(CCl)N1CCN(Cc2cccs2)CC1 [5.66 5.66]\n",
      "O=C(CCl)N1CCN(Cc2ccsc2)CC1 [3.27 3.27 3.27]\n",
      "O=C(CCl)N1CCN(S(=O)(=O)c2c(F)cccc2F)CC1 [3.43 3.43]\n",
      "O=C(CCl)N1CCN(S(=O)(=O)c2cccc(F)c2)CC1 [4.1 4.1]\n",
      "O=C(CCl)N1CCN(S(=O)(=O)c2cccs2)CC1 [2.07 2.07]\n",
      "O=C(CCl)Nc1cccc(N2CCCC2=O)c1 [72. 72. 72.]\n",
      "O=C(c1cc(=O)[nH]c2ccccc12)N1CCN(c2ccccc2)CC1 [nan nan]\n"
     ]
    }
   ],
   "source": [
    "for k,v in data_df.groupby(\"SMILES\"):\n",
    "    if len(v) > 1:\n",
    "        print(k,v['IC50 (uM)'].values)"
   ]
  },
  {
   "cell_type": "markdown",
   "metadata": {},
   "source": [
    "Remove the duplicated rows in the dataframe"
   ]
  },
  {
   "cell_type": "code",
   "execution_count": 4,
   "metadata": {},
   "outputs": [
    {
     "name": "stdout",
     "output_type": "stream",
     "text": [
      "310 rows reduced to 280 rows\n"
     ]
    }
   ],
   "source": [
    "before_rows = data_df.shape[0]\n",
    "data_df.drop_duplicates(\"SMILES\",inplace=True)\n",
    "after_rows = data_df.shape[0]\n",
    "print(f\"{before_rows} rows reduced to {after_rows} rows\")"
   ]
  },
  {
   "cell_type": "markdown",
   "metadata": {},
   "source": [
    "Add a RDKit molecule column to the dataframe"
   ]
  },
  {
   "cell_type": "code",
   "execution_count": 5,
   "metadata": {},
   "outputs": [],
   "source": [
    "data_df['mol'] = [Chem.MolFromSmiles(x) for x in data_df.SMILES]"
   ]
  },
  {
   "cell_type": "markdown",
   "metadata": {},
   "source": [
    "Change the missing IC50 values to 999 and add a pIC50 column"
   ]
  },
  {
   "cell_type": "code",
   "execution_count": 6,
   "metadata": {},
   "outputs": [],
   "source": [
    "data_df.fillna({'IC50 (uM)': 999},inplace=True)\n",
    "data_df['pIC50'] = -np.log10([x * 1e-6 for x in data_df['IC50 (uM)'].values])"
   ]
  },
  {
   "cell_type": "markdown",
   "metadata": {},
   "source": [
    "Add a compound to identify the covalent compounds "
   ]
  },
  {
   "cell_type": "code",
   "execution_count": 7,
   "metadata": {},
   "outputs": [],
   "source": [
    "chloromethylketone = Chem.MolFromSmarts('C(=O)[CH2]Cl')\n",
    "acrylamide = Chem.MolFromSmarts('C(=O)[CH]=[CH2]')\n",
    "data_df['covalent'] = [x.HasSubstructMatch(acrylamide) or x.HasSubstructMatch(chloromethylketone) for x in data_df.mol]"
   ]
  },
  {
   "cell_type": "markdown",
   "metadata": {},
   "source": [
    "Add a fingerprint column"
   ]
  },
  {
   "cell_type": "code",
   "execution_count": 8,
   "metadata": {},
   "outputs": [],
   "source": [
    "data_df['fp'] = [Chem.RDKFingerprint(x) for x in data_df.mol]"
   ]
  },
  {
   "cell_type": "markdown",
   "metadata": {},
   "source": [
    "### Select covalent or noncovalent compounds.  \n",
    "To select all compounds just set \"df = data_df\""
   ]
  },
  {
   "cell_type": "code",
   "execution_count": 9,
   "metadata": {},
   "outputs": [
    {
     "data": {
      "text/plain": [
       "(200, 15)"
      ]
     },
     "execution_count": 9,
     "metadata": {},
     "output_type": "execute_result"
    }
   ],
   "source": [
    "df = data_df.query(\"covalent == False\")\n",
    "df.shape"
   ]
  },
  {
   "cell_type": "markdown",
   "metadata": {},
   "source": [
    "Calculate the [Structure Activity Landscape Index (SALI)](https://pubs.acs.org/doi/abs/10.1021/ci7004093) as $\\dfrac{\\Delta pIC_{50}}{1-Tanimoto}$.  Note that we add 0.001 to the denominator to avoid divide by zero errors."
   ]
  },
  {
   "cell_type": "code",
   "execution_count": 10,
   "metadata": {},
   "outputs": [],
   "source": [
    "pIC50_list = df.pIC50.values\n",
    "smiles_list = df.SMILES.values\n",
    "fp_list = df.fp.values\n",
    "sal_list = []\n",
    "for i,fp in enumerate(df.fp):\n",
    "    sim_list = DataStructs.BulkTanimotoSimilarity(fp,fp_list)\n",
    "    for j in range(0,i):\n",
    "        ii,jj = i,j\n",
    "        if pIC50_list[i] >= pIC50_list[j]:\n",
    "            ii,jj = i,j\n",
    "        else:\n",
    "            jj,ii = i,j\n",
    "        delta = abs(pIC50_list[i]-pIC50_list[j])\n",
    "        sim = sim_list[j]\n",
    "        sal_list.append([ii,jj,sim,delta/(1-sim+0.001),smiles_list[ii],smiles_list[jj],pIC50_list[ii],pIC50_list[jj]])"
   ]
  },
  {
   "cell_type": "markdown",
   "metadata": {},
   "source": [
    "Create a dataframe with the SALI data"
   ]
  },
  {
   "cell_type": "code",
   "execution_count": 11,
   "metadata": {},
   "outputs": [],
   "source": [
    "sal_df = pd.DataFrame(sal_list,columns=[\"i\",\"j\",\"Sim\",\"SAL\",\"SMILES_i\",\"SMILES_j\",\"pIC50_i\",\"pIC50_j\"])\n",
    "sal_df.sort_values(\"SAL\",ascending=False,inplace=True)\n",
    "sal_df = sal_df.head(100)"
   ]
  },
  {
   "cell_type": "markdown",
   "metadata": {},
   "source": [
    "Add molecule columns to the SALI dataframe"
   ]
  },
  {
   "cell_type": "code",
   "execution_count": 12,
   "metadata": {},
   "outputs": [],
   "source": [
    "PandasTools.AddMoleculeColumnToFrame(sal_df,\"SMILES_i\",\"Mol_i\")\n",
    "PandasTools.AddMoleculeColumnToFrame(sal_df,\"SMILES_j\",\"Mol_j\")"
   ]
  },
  {
   "cell_type": "code",
   "execution_count": 13,
   "metadata": {},
   "outputs": [
    {
     "data": {
      "text/html": [
       "<div>\n",
       "<style scoped>\n",
       "    .dataframe tbody tr th:only-of-type {\n",
       "        vertical-align: middle;\n",
       "    }\n",
       "\n",
       "    .dataframe tbody tr th {\n",
       "        vertical-align: top;\n",
       "    }\n",
       "\n",
       "    .dataframe thead th {\n",
       "        text-align: right;\n",
       "    }\n",
       "</style>\n",
       "<table border=\"1\" class=\"dataframe\">\n",
       "  <thead>\n",
       "    <tr style=\"text-align: right;\">\n",
       "      <th></th>\n",
       "      <th>i</th>\n",
       "      <th>j</th>\n",
       "      <th>Sim</th>\n",
       "      <th>SAL</th>\n",
       "      <th>SMILES_i</th>\n",
       "      <th>SMILES_j</th>\n",
       "      <th>pIC50_i</th>\n",
       "      <th>pIC50_j</th>\n",
       "      <th>Mol_i</th>\n",
       "      <th>Mol_j</th>\n",
       "    </tr>\n",
       "  </thead>\n",
       "  <tbody>\n",
       "    <tr>\n",
       "      <th>860</th>\n",
       "      <td>41</td>\n",
       "      <td>40</td>\n",
       "      <td>0.866242</td>\n",
       "      <td>11.834045</td>\n",
       "      <td>Cc1ccncc1NC(=O)Cc1cccc(Cl)c1</td>\n",
       "      <td>Cc1ccncc1NC(=O)Cc1ccccc1</td>\n",
       "      <td>4.595166</td>\n",
       "      <td>3.000435</td>\n",
       "      <td><img data-content=\"rdkit/molecule\" src=\"data:image/png;base64,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\" alt=\"Mol\"/></td>\n",
       "      <td><img data-content=\"rdkit/molecule\" src=\"data:image/png;base64,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\" alt=\"Mol\"/></td>\n",
       "    </tr>\n",
       "    <tr>\n",
       "      <th>943</th>\n",
       "      <td>43</td>\n",
       "      <td>40</td>\n",
       "      <td>0.860759</td>\n",
       "      <td>8.524114</td>\n",
       "      <td>Cc1ccncc1NC(=O)Cc1cccc(C#N)c1</td>\n",
       "      <td>Cc1ccncc1NC(=O)Cc1ccccc1</td>\n",
       "      <td>4.195861</td>\n",
       "      <td>3.000435</td>\n",
       "      <td><img data-content=\"rdkit/molecule\" src=\"data:image/png;base64,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\" alt=\"Mol\"/></td>\n",
       "      <td><img data-content=\"rdkit/molecule\" src=\"data:image/png;base64,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\" alt=\"Mol\"/></td>\n",
       "    </tr>\n",
       "    <tr>\n",
       "      <th>14408</th>\n",
       "      <td>43</td>\n",
       "      <td>170</td>\n",
       "      <td>0.845992</td>\n",
       "      <td>7.712006</td>\n",
       "      <td>Cc1ccncc1NC(=O)Cc1cccc(C#N)c1</td>\n",
       "      <td>N#Cc1cccc(CC(=O)Nc2cccnc2)c1</td>\n",
       "      <td>4.195861</td>\n",
       "      <td>3.000435</td>\n",
       "      <td><img data-content=\"rdkit/molecule\" src=\"data:image/png;base64,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\" alt=\"Mol\"/></td>\n",
       "      <td><img data-content=\"rdkit/molecule\" src=\"data:image/png;base64,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\" alt=\"Mol\"/></td>\n",
       "    </tr>\n",
       "    <tr>\n",
       "      <th>743</th>\n",
       "      <td>2</td>\n",
       "      <td>39</td>\n",
       "      <td>0.843521</td>\n",
       "      <td>7.410861</td>\n",
       "      <td>Cc1ccncc1NC(=O)Nc1cccc(Cl)c1</td>\n",
       "      <td>Cc1ccncc1NC(=O)Nc1ccccc1</td>\n",
       "      <td>4.167491</td>\n",
       "      <td>3.000435</td>\n",
       "      <td><img data-content=\"rdkit/molecule\" src=\"data:image/png;base64,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\" alt=\"Mol\"/></td>\n",
       "      <td><img data-content=\"rdkit/molecule\" src=\"data:image/png;base64,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\" alt=\"Mol\"/></td>\n",
       "    </tr>\n",
       "    <tr>\n",
       "      <th>11628</th>\n",
       "      <td>153</td>\n",
       "      <td>0</td>\n",
       "      <td>0.667406</td>\n",
       "      <td>6.454633</td>\n",
       "      <td>COc1ccccc1OCCNC(=O)c1cc(=O)[nH]c2ccccc12</td>\n",
       "      <td>O=C(c1cc(=O)[nH]c2ccccc12)N1CCN(c2ccccc2)CC1</td>\n",
       "      <td>5.153663</td>\n",
       "      <td>3.000435</td>\n",
       "      <td><img data-content=\"rdkit/molecule\" src=\"data:image/png;base64,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\" alt=\"Mol\"/></td>\n",
       "      <td><img data-content=\"rdkit/molecule\" src=\"data:image/png;base64,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\" alt=\"Mol\"/></td>\n",
       "    </tr>\n",
       "  </tbody>\n",
       "</table>\n",
       "</div>"
      ],
      "text/plain": [
       "         i    j       Sim        SAL  \\\n",
       "860     41   40  0.866242  11.834045   \n",
       "943     43   40  0.860759   8.524114   \n",
       "14408   43  170  0.845992   7.712006   \n",
       "743      2   39  0.843521   7.410861   \n",
       "11628  153    0  0.667406   6.454633   \n",
       "\n",
       "                                       SMILES_i  \\\n",
       "860                Cc1ccncc1NC(=O)Cc1cccc(Cl)c1   \n",
       "943               Cc1ccncc1NC(=O)Cc1cccc(C#N)c1   \n",
       "14408             Cc1ccncc1NC(=O)Cc1cccc(C#N)c1   \n",
       "743                Cc1ccncc1NC(=O)Nc1cccc(Cl)c1   \n",
       "11628  COc1ccccc1OCCNC(=O)c1cc(=O)[nH]c2ccccc12   \n",
       "\n",
       "                                           SMILES_j   pIC50_i   pIC50_j  \\\n",
       "860                        Cc1ccncc1NC(=O)Cc1ccccc1  4.595166  3.000435   \n",
       "943                        Cc1ccncc1NC(=O)Cc1ccccc1  4.195861  3.000435   \n",
       "14408                  N#Cc1cccc(CC(=O)Nc2cccnc2)c1  4.195861  3.000435   \n",
       "743                        Cc1ccncc1NC(=O)Nc1ccccc1  4.167491  3.000435   \n",
       "11628  O=C(c1cc(=O)[nH]c2ccccc12)N1CCN(c2ccccc2)CC1  5.153663  3.000435   \n",
       "\n",
       "                                                   Mol_i  \\\n",
       "860    <img data-content=\"rdkit/molecule\" src=\"data:i...   \n",
       "943    <img data-content=\"rdkit/molecule\" src=\"data:i...   \n",
       "14408  <img data-content=\"rdkit/molecule\" src=\"data:i...   \n",
       "743    <img data-content=\"rdkit/molecule\" src=\"data:i...   \n",
       "11628  <img data-content=\"rdkit/molecule\" src=\"data:i...   \n",
       "\n",
       "                                                   Mol_j  \n",
       "860    <img data-content=\"rdkit/molecule\" src=\"data:i...  \n",
       "943    <img data-content=\"rdkit/molecule\" src=\"data:i...  \n",
       "14408  <img data-content=\"rdkit/molecule\" src=\"data:i...  \n",
       "743    <img data-content=\"rdkit/molecule\" src=\"data:i...  \n",
       "11628  <img data-content=\"rdkit/molecule\" src=\"data:i...  "
      ]
     },
     "execution_count": 13,
     "metadata": {},
     "output_type": "execute_result"
    }
   ],
   "source": [
    "sal_df.head()"
   ]
  },
  {
   "cell_type": "markdown",
   "metadata": {},
   "source": [
    "Align pairs of molecules based on the Maximum Common Subgraph (MCS)"
   ]
  },
  {
   "cell_type": "code",
   "execution_count": 14,
   "metadata": {},
   "outputs": [
    {
     "data": {
      "application/vnd.jupyter.widget-view+json": {
       "model_id": "7dc3011ce29b42738c6747d7aebad3c3",
       "version_major": 2,
       "version_minor": 0
      },
      "text/plain": [
       "HBox(children=(FloatProgress(value=0.0), HTML(value='')))"
      ]
     },
     "metadata": {},
     "output_type": "display_data"
    },
    {
     "name": "stdout",
     "output_type": "stream",
     "text": [
      "\n"
     ]
    }
   ],
   "source": [
    "def align_mols(df_in):\n",
    "    mcs_list = []\n",
    "    for idx, [mol_i,mol_j] in tqdm(df_in[[\"Mol_i\",\"Mol_j\"]].iterrows(),total=df_in.shape[0]):\n",
    "        mcs = rdFMCS.FindMCS([mol_i, mol_j],completeRingsOnly=True)\n",
    "        mcs_query = Chem.MolFromSmarts(mcs.smartsString)\n",
    "        AllChem.Compute2DCoords(mcs_query)\n",
    "        AllChem.GenerateDepictionMatching2DStructure(mol_i,mcs_query)\n",
    "        AllChem.GenerateDepictionMatching2DStructure(mol_j,mcs_query)\n",
    "        \n",
    "align_mols(sal_df)"
   ]
  },
  {
   "cell_type": "markdown",
   "metadata": {},
   "source": [
    "View the pairs of molecules. The more active molecule is always on the left. "
   ]
  },
  {
   "cell_type": "code",
   "execution_count": 27,
   "metadata": {},
   "outputs": [
    {
     "data": {
      "application/vnd.jupyter.widget-view+json": {
       "model_id": "f1f252f8675f459c8d45de1728a84df5",
       "version_major": 2,
       "version_minor": 0
      },
      "text/plain": [
       "interactive(children=(IntSlider(value=0, description='row_num', max=99), Output()), _dom_classes=('widget-inte…"
      ]
     },
     "metadata": {},
     "output_type": "display_data"
    }
   ],
   "source": [
    "#@interact(row_num=range(0,100)) #control with a menu\n",
    "@interact(row_num=(0,99,1)) #control with a slider\n",
    "def show_pair(row_num=0):\n",
    "    row = sal_df.iloc[row_num]\n",
    "    mol_i = row.Mol_i\n",
    "    mol_j = row.Mol_j\n",
    "    i = row.i\n",
    "    j = row.j\n",
    "    legends = [f\"{df.iloc[i].CID} | {df.iloc[i]['IC50 (uM)']:.2f}\",f\"{df.iloc[j].CID} | {df.iloc[j]['IC50 (uM)']:.2f}\"]\n",
    "    print(df.iloc[i].CID,i)\n",
    "    print(df.iloc[j].CID,j)\n",
    "    print(f\"SAL = {row.SAL:.2f}\")\n",
    "    print(f\"Tanimoto = {row.Sim:.2f}\")\n",
    "    delta = 10**(abs(row.pIC50_i-row.pIC50_j))\n",
    "    print(f\"Delta = {delta:.1f}\")\n",
    "    return MolsToGridImage([mol_i,mol_j],molsPerRow=2,subImgSize=(300, 300),legends=legends)"
   ]
  },
  {
   "cell_type": "markdown",
   "metadata": {},
   "source": [
    "Find the most similar crystal structure.  We'll begin by reading the SMILES and molecule names for the crystallized compounds. "
   ]
  },
  {
   "cell_type": "code",
   "execution_count": 16,
   "metadata": {},
   "outputs": [],
   "source": [
    "lig_buff = \"\"\"Mpro-x0072\tCS(=O)(=O)NCCC=1C=CC=CC1\n",
    "Mpro-x0104\tCC(=O)NCCC1=CNC=2C=CC(F)=CC12\n",
    "Mpro-x0107\tCC(=O)NC=1C=NC=CC1C\n",
    "Mpro-x0161\tCOC(=O)C=1C=CC(=CC1)S(=O)(=O)N\n",
    "Mpro-x0195\tCN1CCCC=2C=CC(=CC12)S(=O)(=O)N\n",
    "Mpro-x0305\tCCNC=1C=CC(C#N)=CN1\n",
    "Mpro-x0354\tCN1CCN(CC1)C(=O)COC=2C=CC(C)=CC2\n",
    "Mpro-x0387\tOC1CCN(CC=2C=CSC2)CC1\n",
    "Mpro-x0395\tCC1=NN=C(CN2CCC=C(F)C2)S1\n",
    "Mpro-x0397\tCN(CC=1C=C(C)ON1)C(=O)NC2CC2\n",
    "Mpro-x0426\tFC=1C=CC=CC1C(=O)NCCC=2C=CN=CC2\n",
    "Mpro-x0434\tO=C(NC=1C=CC=CC1)NC=2C=CC=NC2\n",
    "Mpro-x0540\tO=C(NCCC=1C=CN=CC1)NC2CCCCC2\n",
    "Mpro-x0678\tO=C(CC1CCCCC1)NC=2C=CC=NC2\n",
    "Mpro-x0874\tO=C([C@@H]1[C@H](C2=CSC=C2)CCC1)N\n",
    "Mpro-x0946\tBrC1=CC=C(S(N)(=O)=O)C=C1\n",
    "Mpro-x0967\tCC(=O)NC(Cc1ccc(cc1)O)C(=O)NCC#CBr\n",
    "Mpro-x0991\tCl.CCC(=N)N\n",
    "Mpro-x0995\tNC=1C=NC=NC1\n",
    "Mpro-x1077\tN#CC=1C=CC(=CN1)N2CCCOCC2\n",
    "Mpro-x1093\tCN1CCN(CC1)C(=O)CC1=CNC2=NC=CC=C12\n",
    "Mpro-x1249\tO=C(NCC=1C=CC(C#N)=CC1)N2CCOCC2\"\"\""
   ]
  },
  {
   "cell_type": "markdown",
   "metadata": {},
   "source": [
    "Create a dataframe with the data above"
   ]
  },
  {
   "cell_type": "code",
   "execution_count": 17,
   "metadata": {},
   "outputs": [],
   "source": [
    "lig_df = pd.DataFrame([x.split() for x in lig_buff.split(\"\\n\")],columns=[\"Name\",\"SMILES\"])"
   ]
  },
  {
   "cell_type": "markdown",
   "metadata": {},
   "source": [
    "Add molecule and fingerprint columns to the dataframe"
   ]
  },
  {
   "cell_type": "code",
   "execution_count": 18,
   "metadata": {},
   "outputs": [],
   "source": [
    "lig_df['mol'] = [Chem.MolFromSmiles(x) for x in lig_df.SMILES]\n",
    "lig_df['fp'] = [Chem.RDKFingerprint(x) for x in lig_df.mol]"
   ]
  },
  {
   "cell_type": "markdown",
   "metadata": {},
   "source": [
    "Define the query fingerprint"
   ]
  },
  {
   "cell_type": "code",
   "execution_count": 19,
   "metadata": {},
   "outputs": [],
   "source": [
    "query_fp = df.iloc[41].fp"
   ]
  },
  {
   "cell_type": "markdown",
   "metadata": {},
   "source": [
    "Calculate the Tanimoto similarity of each of the crystallized molecules to the query"
   ]
  },
  {
   "cell_type": "code",
   "execution_count": 20,
   "metadata": {},
   "outputs": [
    {
     "data": {
      "text/html": [
       "<div>\n",
       "<style scoped>\n",
       "    .dataframe tbody tr th:only-of-type {\n",
       "        vertical-align: middle;\n",
       "    }\n",
       "\n",
       "    .dataframe tbody tr th {\n",
       "        vertical-align: top;\n",
       "    }\n",
       "\n",
       "    .dataframe thead th {\n",
       "        text-align: right;\n",
       "    }\n",
       "</style>\n",
       "<table border=\"1\" class=\"dataframe\">\n",
       "  <thead>\n",
       "    <tr style=\"text-align: right;\">\n",
       "      <th></th>\n",
       "      <th>Name</th>\n",
       "      <th>SMILES</th>\n",
       "      <th>mol</th>\n",
       "      <th>fp</th>\n",
       "      <th>sim</th>\n",
       "    </tr>\n",
       "  </thead>\n",
       "  <tbody>\n",
       "    <tr>\n",
       "      <th>2</th>\n",
       "      <td>Mpro-x0107</td>\n",
       "      <td>CC(=O)NC=1C=NC=CC1C</td>\n",
       "      <td><img data-content=\"rdkit/molecule\" src=\"data:image/png;base64,iVBORw0KGgoAAAANSUhEUgAAAMgAAADICAIAAAAiOjnJAAAABmJLR0QA/wD/AP+gvaeTAAAT6ElEQVR4nO2dfVCU1f7AvwsLyyJvkgiiqICSQUaRCApTMeg0Gr0xWpZs3ZrkVnNbM+sy2dR2p7HBe7u1NWOTzfVetpy66Oid8L6U5FAj+Q6FL2nKi5ICCyoLKCwsu9/fH2dbVnaXfYA9+zzP/r6f8Y969uzzfHf5POd8n3POnqNARCAIXxMkdgBEYEJiEVwgsQgukFgEF0gsggskFsEFEovgAolFcIHEIrhAYhFcILEILpBYBBdILIILJBbBBRKL4AKJRXCBxCK4QGIRXCCxCC6QWAQXSCyCCyQWwQUSi+ACiUVwgcQiuEBiEVwgsQgukFgEF0gsggskFsEFEovgAolFcIHEIrhAYhFcILECisREyMyEGzdGjrz1FuTnixAJiRVQtLfDiROg040c6euDri4RIiGxAo1Zs+DDD6GhQeQwSKxAY9MmmD0bfv97sNkAAMRaFJvECjTCw+GTT+DIEfjkEzHDILECAaMR/vOfkf9dvhxKSmDTJmhvFy0kEkvenD8P69dDcjI89hhcvTpy/IMPQKmE9etHjrCW0W+QWHLl229h5Uq49Vb46CMYHITly6G3d+TVadPgr3+FXbvgf/8DALh0CW6/3f7ffgIJWTE4iDt34uLFCIAAqFKhRoM//2x/FQArKkYKFxYiAKal4caNCIBBQfjHP+LQkD/ilKRY169jayvabGLHIS16elCvx6Qku1LTp6NOh11dN5UZJVZjI6rVmJaGNhvq9RgaigB499147hz3aCUm1t69uHAhBgcjAEZG4sqVeOmS2DGJT1MTarU4ZYpdqbQ01Ouxv3/c5zl6FOfNs3+127ZxCNQJKYn1j39gcDDm5uLOnVhbi3o9xsRgfDyePy92ZKJx/DhqNKhU2pXKy8OqqklV5T09WFJiP9uqVXjtmu9ivRnJiNXXh7GxmJeHFsvIwRMnUKnEkhLxwhIHi8Xyr391OidSzz6LJ0/67Pw7d2JMDALgnDlYW+uz0zojGbEqKxEAv/129PE1azA6WoyAxKGvr2/btm1paWnp6U8DYHQ0arVc0oGWFlyyBAFQqUSdDoeHfXx+yYi1eTMCjM5FEfHddxGAY5UtGS5evPjqq69GR0ezp/W0tLTt23tv3OB4RYsFdToMCkIAvO8+/PVXX55cMmLpdAjgJiN94QVUKCaSqcqH+vp6jUYTEhLClMrLy9u5c+ewz+sQD+zfj4mJCIAxMfjPf/rstJIRa8cOBMC6utHH583DxEQxAuKO1Wqtrq4uKipiPgUFBRUVFR06dIjHtZqbsafH46tdXfjgg/Z8TqNBn1STkhGrtRVVqtF5+unTCIAbNogUEy/MZrPBYLjtttuYUpGRkVqt9uLFi9wuh5mZXvJ01tGlUqFa3X///atPTvpJQTJiIeJrryEA/u53eOgQNjfjnj04axYmJqLRKHZkPsNoNOp0umnTpjGl5s6dW15e3t3dzfWily/jokX2PH3zZrRaPZb86SdcteptAFCr1Vu3bp3MRaUh1o8/YkkJbt2Kf/kLqtX2SlmhwIICbG8XOzjfcOrUqWeeeUalUjGlcnJyKisr/ZZICc/TBwYGtFotC/Lhhx++cuXKxK4oDbFYgrVmDSLi8DCePo21tdjbi+fO4cKFuG6d2PFNls7OzpdfftmRSFVXV4sShiNPj472kqfv2bMnNjYWAOLj47/++usJXEsaYv35zwiAr7wy+nh1NQJgQYEYMfmSTz/9FADS09MbGxvFjWRUnn79useSra2t99xzDwAoFAqtVjs4ODiuC0lj2kxbGwBAYuLo45cvuz8uN9ra2gCguLg4NTVV3EimTYOvvoJt2yA8HD7/HLKzPc6OT0pKqqmp0ev1SqXyo48+ys/Pb2xsFH4haYvl6bjcYGLNmDFD7EAAABQKKC2FgwfhttvgzBnIzYW//70D3c2NDwoKWr9+fW1tbWpq6rFjx7Kysj7//HOBV5GGWJ5qJja1NlDEmjlzptiBjJCZCfX1oNWCUnn9nXfuWbFiRUdHh9uSixcvrq+vf/LJJ/v6+p566qnHHnvMZDJ5v8Ak22zfkJyMAG5mMRQXIwBWVooRky/JysoCgKNHj4odiBuqqg5OnToVAGbOnLl///4xShoMhoiICACYO3fuDz/8MPZpJSCWzYZhYQjgJpPMzUUAXuPvfiQ+Ph4ALkl1bpnwPP3s2bPsJlEqlTqdzuq5T0wCYl25Yh+pcmX2bATA5ma/x+RLLBZLUFBQcHCwxXlGECIi1tTUHDt2bMg/k4XHxGq16vV6Nl6ZnZ193vMcOLPZvGHDBoVCAQA1NTWeiklArIYGBMD09NHHrVYMDUWFAgcGxAjLZ7S2tgJAorsRz7i4OABol0wn8JEjR9hza2Rk5GeffTZGye3btwcHB+fn53sqIIHknT36uSa2XV0wNASxsRAW5v+gfAjL3BNdHkGGhoauXLmiVCqZXlKA5elr1671mqenpqZardYxTiUBsTw9EnoSTm5cvnwZ3InV1taGiAkJCcHBwWLE5Z6oqKgdO3Zs3759ypQpu3btys7OPnXqlGsxTx/KgQTE8iRQYHViufY1SLAPwsGzzz5bV1eXlZXV29t7yy23uBbwGrySY3QCYQK5dh4GVre7a++opyZSItx6660HDx5sbGx026/rtctX8jWWJG/oceHp5vbamoiOSqXKyMhw+5LXGksyYnnqdpfGMMhk8FQztbe3uz0uC7xWtxIQy1OTFyhNoaeaSfo11hh4DV7kHMtqtdYuWDBr3rzUhITRrwVWU+j2qRCkmrx7xWt1K7JYHR0d99XUJCQktP/2GxUHH0+fnnjvvfcnJqpFicxHDAwMmEwmlUrl+mwl8eR9DK5duzYwMBAdHc2GDt0islievlyLxfJSdbVCoRiMjxcjLp/haDLYGIgz8hVLSOQi51iemur29nabzRYfHy+pzsMJ4OlvcP369d7eXrVazWYWyAsh2aHIYsmx83BcBGTmLuSvIwmxZNd5KJyAvHNk0BTKt/NQIAF558hGrADrPHQmIO8cGYgVkCmIMwF558gmeffUeSjT792ZgLxzpJ68m83m7u7ukJAQx1oGDmSd2zrjqWaS7we02WxGo1GhUCS4DpY4IaZYbKZbYmJiUNDoMAKjxuru7u7v74+KioqMjBz1knw/oNFoHB4ejouLCw0NHaOYyGKBuy+3v7+fDYOw5QPki6cPiIisJpPIT1jHhcBGXEyxvOYfrsMg8sLTB7x69arZbI6JiZkyZYoYcU0KgY24+DVWgHUeOhOQH1BgIy6+WAHWeehMQD7zykasAOs8dMbT30DWH1AGYs2fP3/p0qXJyclNTU2vvPLK/v37jx07BjLvPHQmIKf4CbwrxJyP9fbbbz/44IMffvjhl19+OTw8XFFR0dfX98YbbyxZsmTdunXZ2dkixuYTxvhFIcjzkRCE3xW+/pW2IIaHhysrK3NyclgMKpXq6aeffvHFF1mHVkFBgWTXzxgXs2bNAoCWlpZRxx966CEA2LNnjxhBTRY2Fbajo2PsYv4Wy7GlB1MqOjpaq9X++ttiq9XV1ew+njZtWlVVlZ9j8y1Wq1WpVCoUCrPZPOolk8l0+vRpk8kkSmCTwWw2KxSKkJCQMdaZYfhPrPb2dp1O5+jzTE1N1ev1112WLurs7HzggQdYGY1Gc4Prph88YZliXFyc2IH4kubmZgCYPXu215L+EOvHH38c15YeNptNr9ezlavT09MbGhr8EKTPqaurA4DMzEyxA/EltbW1AJCbm+u1JEex3G7pcfDgQYFvP3ny5O233w4AYWFher2eX5ycqKqqAoAVK1aIHYgvqaysBIDi4mKvJbmIxbb0SE9PZ0qxLT0uXLgw3vP09/c7FrN/5JFHJryYvShs2LABAFatWiV2IL7kgw8+AICXXnrJa0kfizVqS48ZM2bodLprk9sUbvfu3SwzS0pK+u6773wVKieGh4erqqpyc3NZLhIaGqrX622Bsr/1a6+9BgDvvvuu15I+E+vcuXNarVattv+8NCsry2AwuC6OODFaWlqWLl0KACEhqi1bunx0Vh/T3d29ZcsW1sUAANOnT3f0pzz66KNXr14VO0BB2Gy2MVqGtWvXAoDBYPB6Hh+IdeDAgaKiIjYTgd+WHhaL5c033ywo+AYAFy9GsXd4uInm5uaysrKYmBim0fz58/V6fX9/PzpVtwkJCd98843YkY7F4OCgwWBYuHDhvffe66lMQUEBAAj5+05cLEcc7NsMCwvTaDRnzpyZ8AmFcOiQfenuqCjcsYPrpQRx/PhxjUajVCodD7xVVVWjGr5RaxJLYSnbUXR1db3zzjuOGaEzZ870VGmxDsjTp097PedExDKZTHq93lHnx8fH63Q6v2XWJhOuWTOyG0xfn38uexNWq7WqqmrZsmXsGwgNDV29evWRI0c8lR8eHi4vL2cdLosXLxZ9Rx0HjY2NWq02PDycfZDMzMxt27YNeF5NmC3WIKRrd3xiNTU1abVax/S0O+64Y+w4+GEw4JQpCIDJychnU1L39PXh3/72TUpKCvsGYmNjX3/99cuXLwt57+HDh9kb2TqfvEMdmwMHDqxevZqtYKBQKJYtW+Za146ip6cHAMLDw4WcX6hYrM53rKTgts73M2fO4J13juzD7m2MYbK0t6NOh7GxmJbWoFAoUlJS3I4cjI3JZHriiScc4wp9fq9vWV3LHlrZKK1Gozl16pSQ9zY0NLAMUkhhL2KxOJYsWeKo8zUazeT3dfUVZjOWldn3dywsRGEVx7ipr8eSEgwJsbe/+flYVfWd18GyMTAYDKzWT05OFt5jPEl6e3v1ev3s2bPZnzIuLq6srExgXcuSn4SEhOTk5E2bNgl5i0ex+vr63nvvPec43nrrLa9j2qKwbx8mJCAAxsXhv//ts9PabFhdjUVFqFAgAAYFYVERettCRihnzpy56667QMDeIZOnpaXF+aF13rx5er1e4CDsL7/88vzzzzuSsKysLIGZj0exjEZjWFjYeOMQC6MRV6yw7/er1aLLfILxYTajwYAZGfYqKjIStVp0mfwyWcxmc1lZGZspVFhYKLDyGBd1dXVeH1o94ZyETSD5GaspfP/99/fu3cv1ZvIhVitu2WJvsP7whwmepLMTy8vt+9sC4IwZqNPh5AYOvLBv3z42UyguLm7v3r0+Oeeoh9aQkJCxH1pd3zuxJMwZCeyl41OOHsWlS7GtbdxvvHIFn3vOvg0ZAC5ahF98gf7p4jcajStXrnR0dLnO3xIOm+62YMECpkVUVJRWq21tbRXyXpaEzZkzZwJJmCuBJtaEMZsxIQGDgnDZMvT/FEM2U4j9tjgjI+PEiRPjPcOo6W7Jycnl5eUC5xJOJgnzRGCKNWMG3nHHTfsfvvkm5uUhIiYm4qg5OBs34qJFiIj//S+eO+fHKF04fvw469pWq9XjmilUUVHh+MF7Xl7e7t27BSYwrknY2FPlhBOYYrHmbOPGkSMvv4xpafaXNm++qfBzz6GAGZF+wnmmUHFxscCh66amppCQkKKiIq8bnzLcJmGHDx+eXOw3EbBizZqFSiX+9JP9iFzEYuzatYstepuUlPT9998LeUtnZ6eQYgMDAwaDYWJJ2LgIWLE+/hhTUjAnx94jv369nMRCxAsXLuTn5wNAcHBwWVnZ5IeuOzo6dDqdY7l5loR1d3f7JFpXAlasigrctw8BcOtWxJvFiozEOXNG/kVESFEsRLRYLDqdjvUk5eTkNDU1Tew8DQ0NpaWlYb/tJ3r33Xf7cKqcJwJZLEQsKcHoaGxru0mslSvx/fdH/uXkSFQsRk1NDZtIEh0d/cUXX4zrva5T5Wr9tXN7gIvV1YW33IKrV8uvKXTGZDI9/vjjjqFrryPfbKoc+ykKAERERJSWlp49e9Y/0TICXCxErKhAAExLk7FYDMfQ9YIFC+rr692W6erqKi8vd/z+PSEhQafTiTIrOvDFQsTCQrtbKGexEPHnn3/OzMxkIy3l5eXOnVXnz593nrJ35513ijVVjvH/QqzGRlSrPYq1bh3OmePP6CbFwMCAVqtladPy5cvb2tomMGXPDwSmWAHPV199xX5j51g2V61Wl5aW8v7NgXAUiAiEDDEajYWFhT09Pb29vS+88IJWq5XUimIS2LqXmBDx8fH5+fmXLl3605/+VF5eLimrgMSSNWxBG8dEF0lBYskYKa9lSmLJGCmvZUrJu1yxWq0qlQoRBwcHHROqpAPVWHKlo6PDarVOnz5dglYBiSVfpJxgAYklX6ScYAGJJV8kvm8KiSVXSCyCCyQWwQVK3gkuUPJOcEHiTSH1vMuSgYGB8PDw0NBQtrmN2OG4gWosWeLYmE6aVgGJJVMknmABiSVTJJ5gAYklUyTe1wAklkyR/rbZJJYsoaaQ4AI1hQQX6KmQ4AI1hYTv6enpuXHjRkRERFRUlNixeITEkh/ST7CAxJIj0k+wgMSSI9JPsIDEkiPUFBJckH63O5BYcoRqLIILlLwTXJBF8k5Tk2WGzWZTq9UWi6W/v9+xJ4AEoRpLZnR1dQ0NDcXGxkrZKiCxZIcsEiwgsWSHLBIsILFkhyz6GoDEkh3UFBJcmDp1akZGRkpKitiBeIG6GwguUI1FcIHEIrhAYhFcILEILpBYBBdILIILJBbBBRKL4AKJRXCBxCK4QGIRXCCxCC6QWAQXSCyCCyQWwQUSi+ACiUVwgcQiuEBiEVwgsQgukFgEF0gsggskFsEFEovgAolFcIHEIrhAYhFcILEILpBYBBdILIILJBbBBRKL4AKJRXCBxCK4QGIRXCCxCC6QWAQXSCyCC/8HmedY6NZhNVAAAAAASUVORK5CYII=\" alt=\"Mol\"/></td>\n",
       "      <td>[1, 0, 1, 0, 0, 1, 0, 0, 0, 0, 0, 1, 0, 0, 0, ...</td>\n",
       "      <td>0.609342</td>\n",
       "    </tr>\n",
       "    <tr>\n",
       "      <th>13</th>\n",
       "      <td>Mpro-x0678</td>\n",
       "      <td>O=C(CC1CCCCC1)NC=2C=CC=NC2</td>\n",
       "      <td><img data-content=\"rdkit/molecule\" src=\"data:image/png;base64,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\" alt=\"Mol\"/></td>\n",
       "      <td>[1, 0, 1, 0, 0, 1, 0, 0, 0, 0, 0, 1, 0, 0, 0, ...</td>\n",
       "      <td>0.355786</td>\n",
       "    </tr>\n",
       "    <tr>\n",
       "      <th>11</th>\n",
       "      <td>Mpro-x0434</td>\n",
       "      <td>O=C(NC=1C=CC=CC1)NC=2C=CC=NC2</td>\n",
       "      <td><img data-content=\"rdkit/molecule\" src=\"data:image/png;base64,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\" alt=\"Mol\"/></td>\n",
       "      <td>[1, 0, 1, 0, 0, 1, 0, 0, 0, 0, 0, 1, 0, 1, 0, ...</td>\n",
       "      <td>0.296230</td>\n",
       "    </tr>\n",
       "    <tr>\n",
       "      <th>19</th>\n",
       "      <td>Mpro-x1077</td>\n",
       "      <td>N#CC=1C=CC(=CN1)N2CCCOCC2</td>\n",
       "      <td><img data-content=\"rdkit/molecule\" src=\"data:image/png;base64,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\" alt=\"Mol\"/></td>\n",
       "      <td>[1, 0, 1, 0, 0, 1, 0, 0, 0, 0, 0, 1, 0, 0, 1, ...</td>\n",
       "      <td>0.288136</td>\n",
       "    </tr>\n",
       "    <tr>\n",
       "      <th>4</th>\n",
       "      <td>Mpro-x0195</td>\n",
       "      <td>CN1CCCC=2C=CC(=CC12)S(=O)(=O)N</td>\n",
       "      <td><img data-content=\"rdkit/molecule\" src=\"data:image/png;base64,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\" alt=\"Mol\"/></td>\n",
       "      <td>[0, 0, 1, 1, 0, 1, 0, 0, 0, 0, 0, 0, 0, 1, 1, ...</td>\n",
       "      <td>0.251190</td>\n",
       "    </tr>\n",
       "  </tbody>\n",
       "</table>\n",
       "</div>"
      ],
      "text/plain": [
       "          Name                          SMILES  \\\n",
       "2   Mpro-x0107             CC(=O)NC=1C=NC=CC1C   \n",
       "13  Mpro-x0678      O=C(CC1CCCCC1)NC=2C=CC=NC2   \n",
       "11  Mpro-x0434   O=C(NC=1C=CC=CC1)NC=2C=CC=NC2   \n",
       "19  Mpro-x1077       N#CC=1C=CC(=CN1)N2CCCOCC2   \n",
       "4   Mpro-x0195  CN1CCCC=2C=CC(=CC12)S(=O)(=O)N   \n",
       "\n",
       "                                                  mol  \\\n",
       "2   <img data-content=\"rdkit/molecule\" src=\"data:i...   \n",
       "13  <img data-content=\"rdkit/molecule\" src=\"data:i...   \n",
       "11  <img data-content=\"rdkit/molecule\" src=\"data:i...   \n",
       "19  <img data-content=\"rdkit/molecule\" src=\"data:i...   \n",
       "4   <img data-content=\"rdkit/molecule\" src=\"data:i...   \n",
       "\n",
       "                                                   fp       sim  \n",
       "2   [1, 0, 1, 0, 0, 1, 0, 0, 0, 0, 0, 1, 0, 0, 0, ...  0.609342  \n",
       "13  [1, 0, 1, 0, 0, 1, 0, 0, 0, 0, 0, 1, 0, 0, 0, ...  0.355786  \n",
       "11  [1, 0, 1, 0, 0, 1, 0, 0, 0, 0, 0, 1, 0, 1, 0, ...  0.296230  \n",
       "19  [1, 0, 1, 0, 0, 1, 0, 0, 0, 0, 0, 1, 0, 0, 1, ...  0.288136  \n",
       "4   [0, 0, 1, 1, 0, 1, 0, 0, 0, 0, 0, 0, 0, 1, 1, ...  0.251190  "
      ]
     },
     "execution_count": 20,
     "metadata": {},
     "output_type": "execute_result"
    }
   ],
   "source": [
    "lig_df['sim'] = [DataStructs.TanimotoSimilarity(query_fp,x) for x in lig_df.fp]\n",
    "lig_df.sort_values(\"sim\",inplace=True,ascending=False)\n",
    "lig_df.head()"
   ]
  },
  {
   "cell_type": "code",
   "execution_count": null,
   "metadata": {},
   "outputs": [],
   "source": []
  }
 ],
 "metadata": {
  "kernelspec": {
   "display_name": "Python 3",
   "language": "python",
   "name": "python3"
  },
  "language_info": {
   "codemirror_mode": {
    "name": "ipython",
    "version": 3
   },
   "file_extension": ".py",
   "mimetype": "text/x-python",
   "name": "python",
   "nbconvert_exporter": "python",
   "pygments_lexer": "ipython3",
   "version": "3.7.6"
  }
 },
 "nbformat": 4,
 "nbformat_minor": 4
}
